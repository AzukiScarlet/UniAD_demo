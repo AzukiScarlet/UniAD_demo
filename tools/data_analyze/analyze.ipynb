{
 "cells": [
  {
   "cell_type": "markdown",
   "metadata": {},
   "source": [
    "# test生成的数据分析\n",
    "\n",
    "test函数生成的文件很散乱，要从不同的文件中读取才能获得论文中的评价指标。\n",
    "\n",
    "pkl路径：一般由运行的`uniad_dist_eval.sh`中设定的`OUTPUT_DIR`决定\n",
    "track_json路径：默认生成在项目的test文件夹下\n",
    "eval日志路径：一般由运行的`uniad_dist_eval.sh`中设定的`SHOW_DIR`决定\n",
    "\n",
    "- `load_data`函数读取数据，从pkl，json，eval日志中分别读取\n",
    "- `save_final_data`函数保存数据，将评测结果保存为json文件和csv文件\n",
    "- `show`相关函数展示数据。"
   ]
  },
  {
   "cell_type": "code",
   "execution_count": 1,
   "metadata": {},
   "outputs": [],
   "source": [
    "from analyze_eval_data import DataAnalyze"
   ]
  },
  {
   "cell_type": "code",
   "execution_count": null,
   "metadata": {},
   "outputs": [],
   "source": [
    "pkl_path = \"/home2/lixiang/UniAD_demo/experiments/origin/stage2/origin/test/11071146.pkl\"\n",
    "track_json_path = \"/home2/lixiang/UniAD_demo/test/base_e2e/Thu_Nov__7_12_32_41_2024\" + \"/track/metrics_summary.json\"\n",
    "eval_json_path = '/home2/lixiang/UniAD_demo/experiments/origin/stage2/origin/test/logs/eval.11071146'\n",
    "analyzer = DataAnalyze(pkl_path = pkl_path, track_json_path = track_json_path, log_path = eval_json_path, final_json_path = None)"
   ]
  },
  {
   "cell_type": "code",
   "execution_count": 3,
   "metadata": {},
   "outputs": [
    {
     "name": "stdout",
     "output_type": "stream",
     "text": [
      "Loading data from origin file: \n",
      "Loading pkl data from:  /home2/lixiang/UniAD_demo/experiments/origin/stage2/origin/test/11071146.pkl\n",
      "pkl data loaded successfully!\n",
      "Loading track data from:  /home2/lixiang/UniAD_demo/test/base_e2e/Thu_Nov__7_12_32_41_2024/track/metrics_summary.json\n",
      "Track data loaded successfully!\n",
      "Loading log data from:  /home2/lixiang/UniAD_demo/experiments/origin/stage2/origin/test/logs/eval.11071146\n",
      "Log data loaded successfully!\n"
     ]
    }
   ],
   "source": [
    "analyzer.load_data()"
   ]
  },
  {
   "cell_type": "code",
   "execution_count": 4,
   "metadata": {},
   "outputs": [
    {
     "name": "stdout",
     "output_type": "stream",
     "text": [
      "Map结果: \n",
      "            lanes_iou  drivable_iou  divider_iou  crossing_iou\n",
      "map_result   0.313147      0.691659     0.259437      0.143635\n"
     ]
    }
   ],
   "source": [
    "analyzer.show_map()"
   ]
  },
  {
   "cell_type": "code",
   "execution_count": 5,
   "metadata": {},
   "outputs": [
    {
     "name": "stdout",
     "output_type": "stream",
     "text": [
      "Track 数据：\n",
      "评估用时:  2058.7900445461273 s\n",
      "使用传感器  {'use_lidar': False, 'use_camera': True, 'use_radar': False, 'use_map': False, 'use_external': True}\n",
      "各类agent的track result: \n",
      "               AMOTA     AMOTP    RECALL     MOTAR       GT      MOTA  \\\n",
      "bicycle     0.345881  1.388207  0.417461  0.731946   1993.0  0.300050   \n",
      "bus         0.433074  1.239388  0.517992  0.715731   2112.0  0.368371   \n",
      "car         0.578219  0.973955  0.649896  0.741318  58317.0  0.475487   \n",
      "motorcycle  0.367031  1.394494  0.486090  0.746725   1977.0  0.345979   \n",
      "pedestrian  0.412099  1.274004  0.473548  0.731089  25423.0  0.335680   \n",
      "trailer     0.026651  1.767665  0.167010  0.345865   2425.0  0.056907   \n",
      "truck       0.363261  1.327544  0.529430  0.513903   9650.0  0.270052   \n",
      "\n",
      "                MOTP      MT      ML         FAF       TP      FP       FN  \\\n",
      "bicycle     0.555324    32.0    75.0   15.835141    817.0   219.0   1161.0   \n",
      "bus         0.702038    33.0    50.0   20.104099   1087.0   309.0   1018.0   \n",
      "car         0.547774  1584.0  1310.0  168.630185  37405.0  9676.0  20417.0   \n",
      "motorcycle  0.692425    33.0    48.0   17.615793    916.0   232.0   1016.0   \n",
      "pedestrian  0.764074   384.0   754.0   73.272642  11673.0  3139.0  13384.0   \n",
      "trailer     0.976732     8.0   110.0   26.851852    399.0   261.0   2020.0   \n",
      "truck       0.784949   147.0   218.0   65.698294   5071.0  2465.0   4541.0   \n",
      "\n",
      "              IDS   FRAG       TID       LGD  \n",
      "bicycle      15.0   15.0  1.434524  1.863095  \n",
      "bus           7.0   22.0  1.286885  2.352459  \n",
      "car         495.0  402.0  0.934800  1.511002  \n",
      "motorcycle   45.0   25.0  1.711957  2.663043  \n",
      "pedestrian  366.0  237.0  1.737019  2.643269  \n",
      "trailer       6.0   12.0  2.300000  4.216667  \n",
      "truck        38.0  105.0  1.408012  2.502967   \n",
      "\n",
      "自车的track结果(论文中评价指标): \n",
      "                    amota     amotp    recall     motar            gt  \\\n",
      "tracking_result  0.360888  1.337894  0.463061  0.646654  14556.714286   \n",
      "\n",
      "                     mota      motp      mt      ml        faf       tp  \\\n",
      "tracking_result  0.307504  0.717617  2221.0  2565.0  55.429715  57368.0   \n",
      "\n",
      "                      fp       fn    ids   frag       tid       lgd  \n",
      "tracking_result  16301.0  43557.0  972.0  818.0  1.544742  2.536072   \n",
      "\n"
     ]
    }
   ],
   "source": [
    "analyzer.show_track()"
   ]
  },
  {
   "cell_type": "code",
   "execution_count": 6,
   "metadata": {},
   "outputs": [
    {
     "name": "stdout",
     "output_type": "stream",
     "text": [
      "Motion 数据：\n",
      "Motion的Car和Pedestrian result: \n",
      "            class_name min_ADE(m)↓ min_FDE(m)↓ miss_rate↓      EPA↑\n",
      "car                car      0.7049      1.0148     0.1497  0.459646\n",
      "pedestrian  pedestrian      0.7823      1.0499     0.1241   0.35283\n"
     ]
    }
   ],
   "source": [
    "analyzer.show_motion()"
   ]
  },
  {
   "cell_type": "code",
   "execution_count": 7,
   "metadata": {},
   "outputs": [
    {
     "name": "stdout",
     "output_type": "stream",
     "text": [
      "OCC 数据：\n",
      "\n",
      "OCC 表格(越大越好)：\n",
      "                       pq         sq         rq  denominator        iou  \\\n",
      "-n (30m x 30m)  55.176485  75.822878  72.770232    9501550.0  63.808119   \n",
      "-f (50m x 50m)  34.161365  70.894837  48.185974   33389800.0  40.533423   \n",
      "\n",
      "                num_occ  ratio_occ  \n",
      "-n (30m x 30m)     1705    0.28327  \n",
      "-f (50m x 50m)     1705    0.28327  \n"
     ]
    }
   ],
   "source": [
    "analyzer.show_occ()"
   ]
  },
  {
   "cell_type": "code",
   "execution_count": 8,
   "metadata": {},
   "outputs": [
    {
     "name": "stdout",
     "output_type": "stream",
     "text": [
      "Planning 数据：\n",
      "Planning 数据分析：\n",
      "obj_col: tensor([0.0000, 0.0000, 0.0003, 0.0003, 0.0007, 0.0010], device='cuda:0')\n",
      "obj_box_col: tensor([0.0003, 0.0010, 0.0013, 0.0015, 0.0030, 0.0061], device='cuda:0')\n",
      "L2: tensor([0.3355, 0.5072, 0.7193, 0.9824, 1.2903, 1.6498], device='cuda:0')\n",
      "\n",
      "规划结果：\n",
      "                    0.5s      1.0s      1.5s      2.0s      2.5s      3.0s\n",
      "obj_col(%)      0.000000  0.000000  0.033217  0.033217  0.066434  0.099651\n",
      "obj_box_col(%)  0.033217  0.099651  0.132868  0.149477  0.298954  0.614516\n",
      "L2(m)           0.335543  0.507160  0.719288  0.982400  1.290323  1.649800\n",
      "avg_0.5s        0.122920  0.202270  0.295124  0.388365  0.551903  0.787989\n",
      "avg_1s          0.033217  0.099651  0.132868  0.149477  0.298954  0.614516\n"
     ]
    }
   ],
   "source": [
    "analyzer.show_planning()"
   ]
  },
  {
   "cell_type": "code",
   "execution_count": 9,
   "metadata": {},
   "outputs": [
    {
     "name": "stdout",
     "output_type": "stream",
     "text": [
      "Saving final json to:  /home2/lixiang/UniAD_demo/experiments/origin/stage2/origin/test/eval_result.json\n",
      "Final json saved successfully!\n",
      "Saving pandas data to:  /home2/lixiang/UniAD_demo/experiments/origin/stage2/origin/test/eval_result.csv\n"
     ]
    }
   ],
   "source": [
    "analyzer.save_final_data(output_json_path = '/home2/lixiang/UniAD_demo/experiments/origin/stage2/origin/test/eval_result.json',\n",
    "                         output_pd_path = '/home2/lixiang/UniAD_demo/experiments/origin/stage2/origin/test/eval_result.csv')"
   ]
  },
  {
   "cell_type": "code",
   "execution_count": 10,
   "metadata": {},
   "outputs": [
    {
     "name": "stdout",
     "output_type": "stream",
     "text": [
      "Loading data from final json file: \n",
      "Loading final json from:  /home2/lixiang/UniAD_demo/experiments/origin/stage2/origin/test/eval_result.json\n",
      "Final json loaded successfully!\n"
     ]
    }
   ],
   "source": [
    "from analyze_eval_data import DataAnalyze\n",
    "analyzer_final = DataAnalyze(final_json_path='/home2/lixiang/UniAD_demo/experiments/origin/stage2/origin/test/eval_result.json')\n",
    "analyzer_final.load_data()"
   ]
  },
  {
   "cell_type": "code",
   "execution_count": 11,
   "metadata": {},
   "outputs": [
    {
     "name": "stdout",
     "output_type": "stream",
     "text": [
      "OCC 数据：\n",
      "\n",
      "OCC 表格(越大越好)：\n",
      "                       pq         sq         rq  denominator        iou  \\\n",
      "-n (30m x 30m)  55.176485  75.822878  72.770232    9501550.0  63.808119   \n",
      "-f (50m x 50m)  34.161365  70.894837  48.185974   33389800.0  40.533423   \n",
      "\n",
      "                num_occ  ratio_occ  \n",
      "-n (30m x 30m)     1705    0.28327  \n",
      "-f (50m x 50m)     1705    0.28327  \n",
      "Planning 数据：\n",
      "Planning 数据分析：\n",
      "obj_col: [0.0, 0.0, 0.0003321707481518388, 0.0003321707481518388, 0.0006643414963036776, 0.0009965122444555163]\n",
      "obj_box_col: [0.0003321707481518388, 0.0009965122444555163, 0.0013286829926073551, 0.0014947683084756136, 0.002989536616951227, 0.0061451587826013565]\n",
      "L2: [0.33554255962371826, 0.5071601271629333, 0.7192876935005188, 0.982400119304657, 1.2903225421905518, 1.6498000621795654]\n",
      "\n",
      "规划结果：\n",
      "                    0.5s      1.0s      1.5s      2.0s      2.5s      3.0s\n",
      "obj_col(%)      0.000000  0.000000  0.033217  0.033217  0.066434  0.099651\n",
      "obj_box_col(%)  0.033217  0.099651  0.132868  0.149477  0.298954  0.614516\n",
      "L2(m)           0.335543  0.507160  0.719288  0.982400  1.290323  1.649800\n",
      "avg_0.5s        0.122920  0.202270  0.295124  0.388365  0.551903  0.787989\n",
      "avg_1s          0.033217  0.099651  0.132868  0.149477  0.298954  0.614516\n",
      "Track 数据：\n",
      "评估用时:  2058.7900445461273 s\n",
      "使用传感器  {'use_lidar': False, 'use_camera': True, 'use_radar': False, 'use_map': False, 'use_external': True}\n",
      "各类agent的track result: \n",
      "               AMOTA     AMOTP    RECALL     MOTAR       GT      MOTA  \\\n",
      "bicycle     0.345881  1.388207  0.417461  0.731946   1993.0  0.300050   \n",
      "bus         0.433074  1.239388  0.517992  0.715731   2112.0  0.368371   \n",
      "car         0.578219  0.973955  0.649896  0.741318  58317.0  0.475487   \n",
      "motorcycle  0.367031  1.394494  0.486090  0.746725   1977.0  0.345979   \n",
      "pedestrian  0.412099  1.274004  0.473548  0.731089  25423.0  0.335680   \n",
      "trailer     0.026651  1.767665  0.167010  0.345865   2425.0  0.056907   \n",
      "truck       0.363261  1.327544  0.529430  0.513903   9650.0  0.270052   \n",
      "\n",
      "                MOTP      MT      ML         FAF       TP      FP       FN  \\\n",
      "bicycle     0.555324    32.0    75.0   15.835141    817.0   219.0   1161.0   \n",
      "bus         0.702038    33.0    50.0   20.104099   1087.0   309.0   1018.0   \n",
      "car         0.547774  1584.0  1310.0  168.630185  37405.0  9676.0  20417.0   \n",
      "motorcycle  0.692425    33.0    48.0   17.615793    916.0   232.0   1016.0   \n",
      "pedestrian  0.764074   384.0   754.0   73.272642  11673.0  3139.0  13384.0   \n",
      "trailer     0.976732     8.0   110.0   26.851852    399.0   261.0   2020.0   \n",
      "truck       0.784949   147.0   218.0   65.698294   5071.0  2465.0   4541.0   \n",
      "\n",
      "              IDS   FRAG       TID       LGD  \n",
      "bicycle      15.0   15.0  1.434524  1.863095  \n",
      "bus           7.0   22.0  1.286885  2.352459  \n",
      "car         495.0  402.0  0.934800  1.511002  \n",
      "motorcycle   45.0   25.0  1.711957  2.663043  \n",
      "pedestrian  366.0  237.0  1.737019  2.643269  \n",
      "trailer       6.0   12.0  2.300000  4.216667  \n",
      "truck        38.0  105.0  1.408012  2.502967   \n",
      "\n",
      "自车的track结果(论文中评价指标): \n",
      "                    amota     amotp    recall     motar            gt  \\\n",
      "tracking_result  0.360888  1.337894  0.463061  0.646654  14556.714286   \n",
      "\n",
      "                     mota      motp      mt      ml        faf       tp  \\\n",
      "tracking_result  0.307504  0.717617  2221.0  2565.0  55.429715  57368.0   \n",
      "\n",
      "                      fp       fn    ids   frag       tid       lgd  \n",
      "tracking_result  16301.0  43557.0  972.0  818.0  1.544742  2.536072   \n",
      "\n",
      "Map结果: \n",
      "            lanes_iou  drivable_iou  divider_iou  crossing_iou\n",
      "map_result   0.313147      0.691659     0.259437      0.143635\n",
      "Motion 数据：\n",
      "Motion的Car和Pedestrian result: \n",
      "            class_name min_ADE(m)↓ min_FDE(m)↓ miss_rate↓      EPA↑\n",
      "car                car      0.7049      1.0148     0.1497  0.459646\n",
      "pedestrian  pedestrian      0.7823      1.0499     0.1241   0.35283\n"
     ]
    }
   ],
   "source": [
    "analyzer_final.show_all()"
   ]
  }
 ],
 "metadata": {
  "kernelspec": {
   "display_name": "uniad",
   "language": "python",
   "name": "python3"
  },
  "language_info": {
   "codemirror_mode": {
    "name": "ipython",
    "version": 3
   },
   "file_extension": ".py",
   "mimetype": "text/x-python",
   "name": "python",
   "nbconvert_exporter": "python",
   "pygments_lexer": "ipython3",
   "version": "3.8.20"
  }
 },
 "nbformat": 4,
 "nbformat_minor": 2
}
